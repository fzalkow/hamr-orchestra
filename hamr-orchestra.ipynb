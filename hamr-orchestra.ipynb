{
 "cells": [
  {
   "cell_type": "markdown",
   "metadata": {},
   "source": [
    "# HAMR-Orchestra\n",
    "\n",
    "* Frank Zalkow, Christof Weiß\n",
    "* HAMR 2017, Suzhou"
   ]
  },
  {
   "cell_type": "markdown",
   "metadata": {},
   "source": [
    "Imports:"
   ]
  },
  {
   "cell_type": "code",
   "execution_count": null,
   "metadata": {},
   "outputs": [],
   "source": [
    "import os\n",
    "\n",
    "import numpy as np\n",
    "from scipy import signal\n",
    "from scipy.interpolate import interp1d\n",
    "import soundfile as sf\n",
    "\n",
    "from IPython.display import Audio, display"
   ]
  },
  {
   "cell_type": "markdown",
   "metadata": {},
   "source": [
    "Define file names"
   ]
  },
  {
   "cell_type": "code",
   "execution_count": null,
   "metadata": {},
   "outputs": [],
   "source": [
    "file_orchestra = \"beethoven_op67-01_orchester.wav\"\n",
    "file_piano = \"beethoven_op67-01_klavier-streched.wav\""
   ]
  },
  {
   "cell_type": "markdown",
   "metadata": {},
   "source": [
    "Read files:"
   ]
  },
  {
   "cell_type": "code",
   "execution_count": null,
   "metadata": {},
   "outputs": [],
   "source": [
    "x_orchestra, fs_orchestra = sf.read(file_orchestra)\n",
    "x_piano, fs_piano = sf.read(file_piano)\n",
    "assert fs_orchestra == fs_piano\n",
    "fs = fs_orchestra\n",
    "\n",
    "display(Audio(x_orchestra, rate=fs))\n",
    "display(Audio(x_piano, rate=fs))"
   ]
  },
  {
   "cell_type": "markdown",
   "metadata": {},
   "source": [
    "Functions for doing HPRSS:"
   ]
  },
  {
   "cell_type": "code",
   "execution_count": null,
   "metadata": {},
   "outputs": [],
   "source": [
    "def horizontal_median_filter(x, filter_len):\n",
    "    \"\"\" x:          Input signal\n",
    "        filter_len: filter length in samples\n",
    "    \"\"\"\n",
    "    return signal.medfilt(x, [1, filter_len])\n",
    "\n",
    "\n",
    "def vertical_median_filter(x, filter_len):\n",
    "    \"\"\" x:          Input signal\n",
    "        filter_len: filter length in samples\n",
    "    \"\"\"\n",
    "    return signal.medfilt(x, [filter_len, 1])\n",
    "\n",
    "\n",
    "def L_h(t, Fs, H):\n",
    "    \"\"\" t:  time span in seconds, to be converted in samples\n",
    "        Fs: sample rate\n",
    "        H:  hop size\n",
    "    \"\"\"\n",
    "    return int(np.ceil(t * Fs/H))\n",
    "\n",
    "\n",
    "def L_p(d, Fs, N):\n",
    "    \"\"\" d:  frequency span in hertz, to be converted in bins\n",
    "        Fs: sample rate\n",
    "        N:  Frame Size\n",
    "    \"\"\"\n",
    "    return int(np.ceil(d * N / Fs))\n",
    "\n",
    "\n",
    "def HPRSS(x, N, H, w, Fs, lh_sec, lp_Hz, alpha):\n",
    "    \"\"\" x:      Input signal\n",
    "        N:      Frame length\n",
    "        H:      Hopsize\n",
    "        w:      Window function of length N\n",
    "        fs:     Sampling rate of x\n",
    "        lh_sec: Horizontal median filter length given in seconds\n",
    "        lp_Hz:  Percussive median filter length given in Hertz\n",
    "        alpha:  separation factor for the residual \"\"\"\n",
    "\n",
    "    # stft\n",
    "    f, t, X = signal.stft(x, Fs, w, N, N-H)\n",
    "\n",
    "    # power spectrogram\n",
    "    Y = np.abs(X) ** 2\n",
    "\n",
    "    # median filtering\n",
    "    lh_idx = L_h(lh_sec, Fs, H)\n",
    "    lp_idx = L_p(lp_Hz, Fs, N)\n",
    "    lh_idx -= ((lh_idx+1) % 2)\n",
    "    lp_idx -= ((lp_idx+1) % 2)\n",
    "    \n",
    "    Y_h = horizontal_median_filter(Y, lh_idx)\n",
    "    Y_p = vertical_median_filter(Y, lp_idx)\n",
    "\n",
    "    # masking\n",
    "    M_h = np.int8(Y_h >= alpha * Y_p)\n",
    "    M_p = np.int8(alpha * Y_h < Y_p)\n",
    "    M_r = np.logical_not(np.logical_or(M_h, M_p))\n",
    "    X_h = X * M_h\n",
    "    X_p = X * M_p\n",
    "    X_r = X * M_r\n",
    "\n",
    "    # istft\n",
    "    t, x_h = signal.istft(X_h, Fs, w, N, N-H)\n",
    "    t, x_p = signal.istft(X_p, Fs, w, N, N-H)\n",
    "    t, x_r = signal.istft(X_r, Fs, w, N, N-H)\n",
    "\n",
    "    return x_h, x_p, x_r"
   ]
  },
  {
   "cell_type": "markdown",
   "metadata": {},
   "source": [
    "Functions for doing a simple dynamic range compression:"
   ]
  },
  {
   "cell_type": "code",
   "execution_count": null,
   "metadata": {},
   "outputs": [],
   "source": [
    "def apply_transfer(signal, transfer, interpolation='linear'):\n",
    "    constant = np.linspace(-1, 1, len(transfer))\n",
    "    interpolator = interp1d(constant, transfer, interpolation)\n",
    "    return interpolator(signal)\n",
    "\n",
    "# smooth compression: if factor is small, its near linear, the bigger it is the\n",
    "# stronger the compression\n",
    "def arctan_compressor(x, factor=2):\n",
    "    constant = np.linspace(-1, 1, 1000)\n",
    "    transfer = np.arctan(factor * constant)\n",
    "    transfer /= np.abs(transfer).max()\n",
    "    return apply_transfer(x, transfer)"
   ]
  },
  {
   "cell_type": "markdown",
   "metadata": {},
   "source": [
    "Apply HPRSS on Orchestra:"
   ]
  },
  {
   "cell_type": "code",
   "execution_count": null,
   "metadata": {},
   "outputs": [],
   "source": [
    "N = 4096\n",
    "H = N / 2\n",
    "w = 'hann'\n",
    "lh_sec = 1.0\n",
    "lp_Hz = 200\n",
    "alpha = 2.0\n",
    "\n",
    "x_h_orchestra, x_p_orchestra, x_r_orchestra = HPRSS(x_orchestra, N, H, w, fs, lh_sec, lp_Hz, alpha)\n",
    "\n",
    "display(Audio(x_h_orchestra, rate=fs))\n",
    "display(Audio(x_p_orchestra, rate=fs))\n",
    "display(Audio(x_r_orchestra, rate=fs))\n",
    "\n",
    "sf.write(os.path.join('out', os.path.splitext(file_orchestra)[0] + '_h.wav'), x_h_orchestra, fs)\n",
    "sf.write(os.path.join('out', os.path.splitext(file_orchestra)[0] + '_p.wav'), x_p_orchestra, fs)\n",
    "sf.write(os.path.join('out', os.path.splitext(file_orchestra)[0] + '_r.wav'), x_r_orchestra, fs)"
   ]
  },
  {
   "cell_type": "markdown",
   "metadata": {},
   "source": [
    "Apply HPRSS on piano:"
   ]
  },
  {
   "cell_type": "code",
   "execution_count": null,
   "metadata": {},
   "outputs": [],
   "source": [
    "N = 4096\n",
    "H = N / 2\n",
    "w = 'hann'\n",
    "lh_sec = 1.0\n",
    "lp_Hz = 50\n",
    "alpha = 3.0\n",
    "\n",
    "x_h_piano, x_p_piano, x_r_piano = HPRSS(x_piano, N, H, w, fs, lh_sec, lp_Hz, alpha)\n",
    "\n",
    "display(Audio(x_h_piano, rate=fs))\n",
    "display(Audio(x_p_piano, rate=fs))\n",
    "display(Audio(x_r_piano, rate=fs))\n",
    "\n",
    "sf.write(os.path.join('out', os.path.splitext(file_piano)[0] + '_h.wav'), x_h_piano, fs)\n",
    "sf.write(os.path.join('out', os.path.splitext(file_piano)[0] + '_p.wav'), x_p_piano, fs)\n",
    "sf.write(os.path.join('out', os.path.splitext(file_piano)[0] + '_r.wav'), x_r_piano, fs)"
   ]
  },
  {
   "cell_type": "markdown",
   "metadata": {},
   "source": [
    "Some normalization and compression:"
   ]
  },
  {
   "cell_type": "code",
   "execution_count": null,
   "metadata": {},
   "outputs": [],
   "source": [
    "x_p_piano /= np.max(np.abs(x_p_piano))\n",
    "x_p_piano_comp = arctan_compressor(x_p_piano, 2.0)\n",
    "x_p_piano_comp /= np.max(np.abs(x_p_piano_comp))\n",
    "x_p_piano_comp = x_p_piano_comp\n",
    "x_h_orchestra /= np.max(np.abs(x_h_orchestra))\n",
    "display(Audio(x_p_piano_comp, rate=fs))"
   ]
  },
  {
   "cell_type": "code",
   "execution_count": null,
   "metadata": {},
   "outputs": [],
   "source": [
    "x_sum = 0.7 * x_p_piano_comp + x_h_orchestra\n",
    "x_sum /= np.max(np.abs(x_sum))\n",
    "display(Audio(x_sum, rate=fs))\n",
    "sf.write(os.path.join('out', os.path.splitext(file_piano)[0] + '_--_' + os.path.splitext(file_orchestra)[0] + '.wav'), x_sum, fs)"
   ]
  }
 ],
 "metadata": {
  "kernelspec": {
   "display_name": "Python 3",
   "language": "python",
   "name": "python3"
  },
  "language_info": {
   "codemirror_mode": {
    "name": "ipython",
    "version": 3
   },
   "file_extension": ".py",
   "mimetype": "text/x-python",
   "name": "python",
   "nbconvert_exporter": "python",
   "pygments_lexer": "ipython3",
   "version": "3.6.3"
  }
 },
 "nbformat": 4,
 "nbformat_minor": 2
}
